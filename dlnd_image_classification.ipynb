{
 "cells": [
  {
   "cell_type": "markdown",
   "metadata": {
    "collapsed": true
   },
   "source": [
    "# Image Classification\n",
    "In this project, you'll classify images from the [CIFAR-10 dataset](https://www.cs.toronto.edu/~kriz/cifar.html).  The dataset consists of airplanes, dogs, cats, and other objects. You'll preprocess the images, then train a convolutional neural network on all the samples. The images need to be normalized and the labels need to be one-hot encoded.  You'll get to apply what you learned and build a convolutional, max pooling, dropout, and fully connected layers.  At the end, you'll get to see your neural network's predictions on the sample images.\n",
    "## Get the Data\n",
    "Run the following cell to download the [CIFAR-10 dataset for python](https://www.cs.toronto.edu/~kriz/cifar-10-python.tar.gz)."
   ]
  },
  {
   "cell_type": "code",
   "execution_count": 1,
   "metadata": {},
   "outputs": [
    {
     "name": "stdout",
     "output_type": "stream",
     "text": [
      "All files found!\n"
     ]
    }
   ],
   "source": [
    "\"\"\"\n",
    "DON'T MODIFY ANYTHING IN THIS CELL THAT IS BELOW THIS LINE\n",
    "\"\"\"\n",
    "from urllib.request import urlretrieve\n",
    "from os.path import isfile, isdir\n",
    "from tqdm import tqdm\n",
    "import problem_unittests as tests\n",
    "import tarfile\n",
    "\n",
    "cifar10_dataset_folder_path = 'cifar-10-batches-py'\n",
    "\n",
    "# Use Floyd's cifar-10 dataset if present\n",
    "floyd_cifar10_location = '/input/cifar-10/python.tar.gz'\n",
    "if isfile(floyd_cifar10_location):\n",
    "    tar_gz_path = floyd_cifar10_location\n",
    "else:\n",
    "    tar_gz_path = 'cifar-10-python.tar.gz'\n",
    "\n",
    "class DLProgress(tqdm):\n",
    "    last_block = 0\n",
    "\n",
    "    def hook(self, block_num=1, block_size=1, total_size=None):\n",
    "        self.total = total_size\n",
    "        self.update((block_num - self.last_block) * block_size)\n",
    "        self.last_block = block_num\n",
    "\n",
    "if not isfile(tar_gz_path):\n",
    "    with DLProgress(unit='B', unit_scale=True, miniters=1, desc='CIFAR-10 Dataset') as pbar:\n",
    "        urlretrieve(\n",
    "            'https://www.cs.toronto.edu/~kriz/cifar-10-python.tar.gz',\n",
    "            tar_gz_path,\n",
    "            pbar.hook)\n",
    "\n",
    "if not isdir(cifar10_dataset_folder_path):\n",
    "    with tarfile.open(tar_gz_path) as tar:\n",
    "        tar.extractall()\n",
    "        tar.close()\n",
    "\n",
    "\n",
    "tests.test_folder_path(cifar10_dataset_folder_path)"
   ]
  },
  {
   "cell_type": "markdown",
   "metadata": {},
   "source": [
    "## Explore the Data\n",
    "The dataset is broken into batches to prevent your machine from running out of memory.  The CIFAR-10 dataset consists of 5 batches, named `data_batch_1`, `data_batch_2`, etc.. Each batch contains the labels and images that are one of the following:\n",
    "* airplane\n",
    "* automobile\n",
    "* bird\n",
    "* cat\n",
    "* deer\n",
    "* dog\n",
    "* frog\n",
    "* horse\n",
    "* ship\n",
    "* truck\n",
    "\n",
    "Understanding a dataset is part of making predictions on the data.  Play around with the code cell below by changing the `batch_id` and `sample_id`. The `batch_id` is the id for a batch (1-5). The `sample_id` is the id for a image and label pair in the batch.\n",
    "\n",
    "Ask yourself \"What are all possible labels?\", \"What is the range of values for the image data?\", \"Are the labels in order or random?\".  Answers to questions like these will help you preprocess the data and end up with better predictions."
   ]
  },
  {
   "cell_type": "code",
   "execution_count": 2,
   "metadata": {},
   "outputs": [
    {
     "name": "stdout",
     "output_type": "stream",
     "text": [
      "\n",
      "Stats of batch 5:\n",
      "Samples: 10000\n",
      "Label Counts: {0: 1014, 1: 1014, 2: 952, 3: 1016, 4: 997, 5: 1025, 6: 980, 7: 977, 8: 1003, 9: 1022}\n",
      "First 20 Labels: [1, 8, 5, 1, 5, 7, 4, 3, 8, 2, 7, 2, 0, 1, 5, 9, 6, 2, 0, 8]\n",
      "\n",
      "Example of Image 1021:\n",
      "Image - Min Value: 10 Max Value: 255\n",
      "Image - Shape: (32, 32, 3)\n",
      "Label - Label Id: 3 Name: cat\n"
     ]
    },
    {
     "data": {
      "image/png": "[encoded data removed]",
      "text/plain": [
       "<matplotlib.figure.Figure at 0x7f7ccc086320>"
      ]
     },
     "metadata": {
      "image/png": {
       "height": 250,
       "width": 253
      }
     },
     "output_type": "display_data"
    }
   ],
   "source": [
    "%matplotlib inline\n",
    "%config InlineBackend.figure_format = 'retina'\n",
    "\n",
    "import helper\n",
    "import numpy as np\n",
    "\n",
    "# Explore the dataset\n",
    "batch_id = 5\n",
    "sample_id = 1021\n",
    "helper.display_stats(cifar10_dataset_folder_path, batch_id, sample_id)"
   ]
  },
  {
   "cell_type": "markdown",
   "metadata": {},
   "source": [
    "## Implement Preprocess Functions\n",
    "### Normalize\n",
    "In the cell below, implement the `normalize` function to take in image data, `x`, and return it as a normalized Numpy array. The values should be in the range of 0 to 1, inclusive.  The return object should be the same shape as `x`."
   ]
  },
  {
   "cell_type": "code",
   "execution_count": 3,
   "metadata": {},
   "outputs": [
    {
     "name": "stdout",
     "output_type": "stream",
     "text": [
      "Tests Passed\n"
     ]
    }
   ],
   "source": [
    "def normalize(x):\n",
    "    \"\"\"\n",
    "    Normalize a list of sample image data in the range of 0 to 1\n",
    "    : x: List of image data.  The image shape is (32, 32, 3)\n",
    "    : return: Numpy array of normalize data\n",
    "    \"\"\"\n",
    "    # TODO: Implement Function\n",
    "    x=np.array(x)\n",
    "    x=x.astype(float)\n",
    "    x=np.divide(x,np.max(x))\n",
    "    return x\n",
    "\n",
    "\n",
    "\"\"\"\n",
    "DON'T MODIFY ANYTHING IN THIS CELL THAT IS BELOW THIS LINE\n",
    "\"\"\"\n",
    "tests.test_normalize(normalize)"
   ]
  },
  {
   "cell_type": "markdown",
   "metadata": {},
   "source": [
    "### One-hot encode\n",
    "Just like the previous code cell, you'll be implementing a function for preprocessing.  This time, you'll implement the `one_hot_encode` function. The input, `x`, are a list of labels.  Implement the function to return the list of labels as One-Hot encoded Numpy array.  The possible values for labels are 0 to 9. The one-hot encoding function should return the same encoding for each value between each call to `one_hot_encode`.  Make sure to save the map of encodings outside the function.\n",
    "\n",
    "Hint: Don't reinvent the wheel."
   ]
  },
  {
   "cell_type": "code",
   "execution_count": 4,
   "metadata": {},
   "outputs": [
    {
     "name": "stdout",
     "output_type": "stream",
     "text": [
      "Tests Passed\n"
     ]
    }
   ],
   "source": [
    "def one_hot_encode(x):\n",
    "    \"\"\"\n",
    "    One hot encode a list of sample labels. Return a one-hot encoded vector for each label.\n",
    "    : x: List of sample Labels\n",
    "    : return: Numpy array of one-hot encoded labels\n",
    "    \"\"\"\n",
    "    one_hot=[]\n",
    "    x=np.array(x)\n",
    "    for i in x:\n",
    "        a=np.zeros(10)\n",
    "        a[i]=1\n",
    "        one_hot.append(a)\n",
    "        \n",
    "        \n",
    "    # TODO: Implement Function\n",
    "    return np.array(one_hot)\n",
    "\n",
    "\n",
    "\"\"\"\n",
    "DON'T MODIFY ANYTHING IN THIS CELL THAT IS BELOW THIS LINE\n",
    "\"\"\"\n",
    "tests.test_one_hot_encode(one_hot_encode)"
   ]
  },
  {
   "cell_type": "markdown",
   "metadata": {},
   "source": [
    "### Randomize Data\n",
    "As you saw from exploring the data above, the order of the samples are randomized.  It doesn't hurt to randomize it again, but you don't need to for this dataset."
   ]
  },
  {
   "cell_type": "markdown",
   "metadata": {},
   "source": [
    "## Preprocess all the data and save it\n",
    "Running the code cell below will preprocess all the CIFAR-10 data and save it to file. The code below also uses 10% of the training data for validation."
   ]
  },
  {
   "cell_type": "code",
   "execution_count": 6,
   "metadata": {
    "collapsed": true
   },
   "outputs": [],
   "source": [
    "\"\"\"\n",
    "DON'T MODIFY ANYTHING IN THIS CELL\n",
    "\"\"\"\n",
    "# Preprocess Training, Validation, and Testing Data\n",
    "helper.preprocess_and_save_data(cifar10_dataset_folder_path, normalize, one_hot_encode)"
   ]
  },
  {
   "cell_type": "markdown",
   "metadata": {},
   "source": [
    "# Check Point\n",
    "This is your first checkpoint.  If you ever decide to come back to this notebook or have to restart the notebook, you can start from here.  The preprocessed data has been saved to disk."
   ]
  },
  {
   "cell_type": "code",
   "execution_count": 7,
   "metadata": {
    "collapsed": true
   },
   "outputs": [],
   "source": [
    "\"\"\"\n",
    "DON'T MODIFY ANYTHING IN THIS CELL\n",
    "\"\"\"\n",
    "import pickle\n",
    "import problem_unittests as tests\n",
    "import helper\n",
    "\n",
    "# Load the Preprocessed Validation data\n",
    "valid_features, valid_labels = pickle.load(open('preprocess_validation.p', mode='rb'))"
   ]
  },
  {
   "cell_type": "markdown",
   "metadata": {},
   "source": [
    "## Build the network\n",
    "For the neural network, you'll build each layer into a function.  Most of the code you've seen has been outside of functions. To test your code more thoroughly, we require that you put each layer in a function.  This allows us to give you better feedback and test for simple mistakes using our unittests before you submit your project.\n",
    "\n",
    ">**Note:** If you're finding it hard to dedicate enough time for this course each week, we've provided a small shortcut to this part of the project. In the next couple of problems, you'll have the option to use classes from the [TensorFlow Layers](https://www.tensorflow.org/api_docs/python/tf/layers) or [TensorFlow Layers (contrib)](https://www.tensorflow.org/api_guides/python/contrib.layers) packages to build each layer, except the layers you build in the \"Convolutional and Max Pooling Layer\" section.  TF Layers is similar to Keras's and TFLearn's abstraction to layers, so it's easy to pickup.\n",
    "\n",
    ">However, if you would like to get the most out of this course, try to solve all the problems _without_ using anything from the TF Layers packages. You **can** still use classes from other packages that happen to have the same name as ones you find in TF Layers! For example, instead of using the TF Layers version of the `conv2d` class, [tf.layers.conv2d](https://www.tensorflow.org/api_docs/python/tf/layers/conv2d), you would want to use the TF Neural Network version of `conv2d`, [tf.nn.conv2d](https://www.tensorflow.org/api_docs/python/tf/nn/conv2d). \n",
    "\n",
    "Let's begin!\n",
    "\n",
    "### Input\n",
    "The neural network needs to read the image data, one-hot encoded labels, and dropout keep probability. Implement the following functions\n",
    "* Implement `neural_net_image_input`\n",
    " * Return a [TF Placeholder](https://www.tensorflow.org/api_docs/python/tf/placeholder)\n",
    " * Set the shape using `image_shape` with batch size set to `None`.\n",
    " * Name the TensorFlow placeholder \"x\" using the TensorFlow `name` parameter in the [TF Placeholder](https://www.tensorflow.org/api_docs/python/tf/placeholder).\n",
    "* Implement `neural_net_label_input`\n",
    " * Return a [TF Placeholder](https://www.tensorflow.org/api_docs/python/tf/placeholder)\n",
    " * Set the shape using `n_classes` with batch size set to `None`.\n",
    " * Name the TensorFlow placeholder \"y\" using the TensorFlow `name` parameter in the [TF Placeholder](https://www.tensorflow.org/api_docs/python/tf/placeholder).\n",
    "* Implement `neural_net_keep_prob_input`\n",
    " * Return a [TF Placeholder](https://www.tensorflow.org/api_docs/python/tf/placeholder) for dropout keep probability.\n",
    " * Name the TensorFlow placeholder \"keep_prob\" using the TensorFlow `name` parameter in the [TF Placeholder](https://www.tensorflow.org/api_docs/python/tf/placeholder).\n",
    "\n",
    "These names will be used at the end of the project to load your saved model.\n",
    "\n",
    "Note: `None` for shapes in TensorFlow allow for a dynamic size."
   ]
  },
  {
   "cell_type": "code",
   "execution_count": 8,
   "metadata": {},
   "outputs": [
    {
     "name": "stdout",
     "output_type": "stream",
     "text": [
      "Image Input Tests Passed.\n",
      "Label Input Tests Passed.\n",
      "Keep Prob Tests Passed.\n"
     ]
    }
   ],
   "source": [
    "import tensorflow as tf\n",
    "\n",
    "def neural_net_image_input(image_shape):\n",
    "    \"\"\"\n",
    "    Return a Tensor for a batch of image input\n",
    "    : image_shape: Shape of the images\n",
    "    : return: Tensor for image input.\n",
    "    \"\"\"\n",
    "    # TODO: Implement Function\n",
    "    ht=image_shape[0]\n",
    "    wd=image_shape[1]\n",
    "    ch=image_shape[2]\n",
    "    image_shape=tf.placeholder(tf.float32,shape=[None,ht,wd,ch],name='x')\n",
    "    return image_shape\n",
    "\n",
    "\n",
    "def neural_net_label_input(n_classes):\n",
    "    \"\"\"\n",
    "    Return a Tensor for a batch of label input\n",
    "    : n_classes: Number of classes\n",
    "    : return: Tensor for label input.\n",
    "    \"\"\"\n",
    "    # TODO: Implement Function\n",
    "    n_classes=tf.placeholder(tf.float32,shape=[None,n_classes],name='y')\n",
    "    return n_classes\n",
    "\n",
    "\n",
    "def neural_net_keep_prob_input():\n",
    "    \"\"\"\n",
    "    Return a Tensor for keep probability\n",
    "    : return: Tensor for keep probability.\n",
    "    \"\"\"\n",
    "    # TODO: Implement Function\n",
    "    dropout=tf.placeholder(tf.float32,shape=None,name='keep_prob')\n",
    "    return dropout\n",
    "\n",
    "\n",
    "\"\"\"\n",
    "DON'T MODIFY ANYTHING IN THIS CELL THAT IS BELOW THIS LINE\n",
    "\"\"\"\n",
    "tf.reset_default_graph()\n",
    "tests.test_nn_image_inputs(neural_net_image_input)\n",
    "tests.test_nn_label_inputs(neural_net_label_input)\n",
    "tests.test_nn_keep_prob_inputs(neural_net_keep_prob_input)"
   ]
  },
  {
   "cell_type": "markdown",
   "metadata": {},
   "source": [
    "### Convolution and Max Pooling Layer\n",
    "Convolution layers have a lot of success with images. For this code cell, you should implement the function `conv2d_maxpool` to apply convolution then max pooling:\n",
    "* Create the weight and bias using `conv_ksize`, `conv_num_outputs` and the shape of `x_tensor`.\n",
    "* Apply a convolution to `x_tensor` using weight and `conv_strides`.\n",
    " * We recommend you use same padding, but you're welcome to use any padding.\n",
    "* Add bias\n",
    "* Add a nonlinear activation to the convolution.\n",
    "* Apply Max Pooling using `pool_ksize` and `pool_strides`.\n",
    " * We recommend you use same padding, but you're welcome to use any padding.\n",
    "\n",
    "**Note:** You **can't** use [TensorFlow Layers](https://www.tensorflow.org/api_docs/python/tf/layers) or [TensorFlow Layers (contrib)](https://www.tensorflow.org/api_guides/python/contrib.layers) for **this** layer, but you can still use TensorFlow's [Neural Network](https://www.tensorflow.org/api_docs/python/tf/nn) package. You may still use the shortcut option for all the **other** layers."
   ]
  },
  {
   "cell_type": "code",
   "execution_count": 9,
   "metadata": {},
   "outputs": [
    {
     "name": "stdout",
     "output_type": "stream",
     "text": [
      "Tests Passed\n"
     ]
    }
   ],
   "source": [
    "def conv2d_maxpool(x_tensor, conv_num_outputs, conv_ksize, conv_strides, pool_ksize, pool_strides):\n",
    "    \"\"\"\n",
    "    Apply convolution then max pooling to x_tensor\n",
    "    :param x_tensor: TensorFlow Tensor\n",
    "    :param conv_num_outputs: Number of outputs for the convolutional layer\n",
    "    :param conv_ksize: kernel size 2-D Tuple for the convolutional layer\n",
    "    :param conv_strides: Stride 2-D Tuple for convolution\n",
    "    :param pool_ksize: kernel size 2-D Tuple for pool\n",
    "    :param pool_strides: Stride 2-D Tuple for pool\n",
    "    : return: A tensor that represents convolution and max pooling of x_tensor\n",
    "    \"\"\"\n",
    "    # TODO: Implement Function\n",
    "    #tensor for weights with normally distributed values\n",
    "    \n",
    "    depth=x_tensor.get_shape().as_list()[3]\n",
    "    #print(type(depth))\n",
    "    wt=tf.Variable(tf.truncated_normal([conv_ksize[0], conv_ksize[1], depth, conv_num_outputs]))\n",
    "    \n",
    "    # tensor for bias with zero initially\n",
    "    \n",
    "    biases=tf.Variable(tf.zeros(conv_num_outputs))\n",
    "    \n",
    "    #creating convolutional layer with tensorflow\n",
    "    \n",
    "    conv_layer=tf.nn.conv2d(x_tensor,wt,strides=[1,conv_strides[0],conv_strides[1],1],padding='SAME')\n",
    "    conv_layer=tf.nn.bias_add(conv_layer,biases)\n",
    "    conv_layer=tf.nn.relu(conv_layer)\n",
    "    #max pool layer\n",
    "    conv_layer=tf.nn.max_pool(conv_layer,ksize=[1,pool_ksize[0],pool_ksize[1],1],strides=[1,pool_strides[0],pool_strides[1],1],padding='SAME')    \n",
    "    return conv_layer\n",
    "\n",
    "\n",
    "\"\"\"\n",
    "DON'T MODIFY ANYTHING IN THIS CELL THAT IS BELOW THIS LINE\n",
    "\"\"\"\n",
    "tests.test_con_pool(conv2d_maxpool)"
   ]
  },
  {
   "cell_type": "markdown",
   "metadata": {},
   "source": [
    "### Flatten Layer\n",
    "Implement the `flatten` function to change the dimension of `x_tensor` from a 4-D tensor to a 2-D tensor.  The output should be the shape (*Batch Size*, *Flattened Image Size*). Shortcut option: you can use classes from the [TensorFlow Layers](https://www.tensorflow.org/api_docs/python/tf/layers) or [TensorFlow Layers (contrib)](https://www.tensorflow.org/api_guides/python/contrib.layers) packages for this layer. For more of a challenge, only use other TensorFlow packages."
   ]
  },
  {
   "cell_type": "code",
   "execution_count": 10,
   "metadata": {},
   "outputs": [
    {
     "name": "stdout",
     "output_type": "stream",
     "text": [
      "Tests Passed\n"
     ]
    }
   ],
   "source": [
    "def flatten(x_tensor):\n",
    "    \"\"\"\n",
    "    Flatten x_tensor to (Batch Size, Flattened Image Size)\n",
    "    : x_tensor: A tensor of size (Batch Size, ...), where ... are the image dimensions.\n",
    "    : return: A tensor of size (Batch Size, Flattened Image Size).\n",
    "    \"\"\"\n",
    "    # TODO: Implement Function\n",
    "    dim=x_tensor.get_shape().as_list()[1]*x_tensor.get_shape().as_list()[2]*x_tensor.get_shape().as_list()[3]\n",
    "    x_tensor=tf.reshape(x_tensor,[-1,dim])\n",
    "    return x_tensor\n",
    "\n",
    "\n",
    "\"\"\"\n",
    "DON'T MODIFY ANYTHING IN THIS CELL THAT IS BELOW THIS LINE\n",
    "\"\"\"\n",
    "tests.test_flatten(flatten)"
   ]
  },
  {
   "cell_type": "markdown",
   "metadata": {},
   "source": [
    "### Fully-Connected Layer\n",
    "Implement the `fully_conn` function to apply a fully connected layer to `x_tensor` with the shape (*Batch Size*, *num_outputs*). Shortcut option: you can use classes from the [TensorFlow Layers](https://www.tensorflow.org/api_docs/python/tf/layers) or [TensorFlow Layers (contrib)](https://www.tensorflow.org/api_guides/python/contrib.layers) packages for this layer. For more of a challenge, only use other TensorFlow packages."
   ]
  },
  {
   "cell_type": "code",
   "execution_count": 11,
   "metadata": {},
   "outputs": [
    {
     "name": "stdout",
     "output_type": "stream",
     "text": [
      "Tests Passed\n"
     ]
    }
   ],
   "source": [
    "def fully_conn(x_tensor, num_outputs):\n",
    "    \"\"\"\n",
    "    Apply a fully connected layer to x_tensor using weight and bias\n",
    "    : x_tensor: A 2-D tensor where the first dimension is batch size.\n",
    "    : num_outputs: The number of output that the new tensor should be.\n",
    "    : return: A 2-D tensor where the second dimension is num_outputs.\n",
    "    \"\"\"\n",
    "    # TODO: Implement Function\n",
    "    dense = tf.layers.dense(inputs=x_tensor, units=num_outputs, activation=tf.nn.relu)\n",
    "    return dense\n",
    "\n",
    "\n",
    "\"\"\"\n",
    "DON'T MODIFY ANYTHING IN THIS CELL THAT IS BELOW THIS LINE\n",
    "\"\"\"\n",
    "tests.test_fully_conn(fully_conn)"
   ]
  },
  {
   "cell_type": "markdown",
   "metadata": {},
   "source": [
    "### Output Layer\n",
    "Implement the `output` function to apply a fully connected layer to `x_tensor` with the shape (*Batch Size*, *num_outputs*). Shortcut option: you can use classes from the [TensorFlow Layers](https://www.tensorflow.org/api_docs/python/tf/layers) or [TensorFlow Layers (contrib)](https://www.tensorflow.org/api_guides/python/contrib.layers) packages for this layer. For more of a challenge, only use other TensorFlow packages.\n",
    "\n",
    "**Note:** Activation, softmax, or cross entropy should **not** be applied to this."
   ]
  },
  {
   "cell_type": "code",
   "execution_count": 12,
   "metadata": {},
   "outputs": [
    {
     "name": "stdout",
     "output_type": "stream",
     "text": [
      "Tests Passed\n"
     ]
    }
   ],
   "source": [
    "def output(x_tensor, num_outputs):\n",
    "    \"\"\"\n",
    "    Apply a output layer to x_tensor using weight and bias\n",
    "    : x_tensor: A 2-D tensor where the first dimension is batch size.\n",
    "    : num_outputs: The number of output that the new tensor should be.\n",
    "    : return: A 2-D tensor where the second dimension is num_outputs.\n",
    "    \"\"\"\n",
    "    # TODO: Implement Function\n",
    "    output = tf.layers.dense(inputs=x_tensor, units=num_outputs)\n",
    "    return output\n",
    "\n",
    "\n",
    "\"\"\"\n",
    "DON'T MODIFY ANYTHING IN THIS CELL THAT IS BELOW THIS LINE\n",
    "\"\"\"\n",
    "tests.test_output(output)"
   ]
  },
  {
   "cell_type": "markdown",
   "metadata": {},
   "source": [
    "### Create Convolutional Model\n",
    "Implement the function `conv_net` to create a convolutional neural network model. The function takes in a batch of images, `x`, and outputs logits.  Use the layers you created above to create this model:\n",
    "\n",
    "* Apply 1, 2, or 3 Convolution and Max Pool layers\n",
    "* Apply a Flatten Layer\n",
    "* Apply 1, 2, or 3 Fully Connected Layers\n",
    "* Apply an Output Layer\n",
    "* Return the output\n",
    "* Apply [TensorFlow's Dropout](https://www.tensorflow.org/api_docs/python/tf/nn/dropout) to one or more layers in the model using `keep_prob`. "
   ]
  },
  {
   "cell_type": "code",
   "execution_count": 13,
   "metadata": {},
   "outputs": [
    {
     "name": "stdout",
     "output_type": "stream",
     "text": [
      "Neural Network Built!\n"
     ]
    }
   ],
   "source": [
    "def conv_net(x, keep_prob):\n",
    "    \"\"\"\n",
    "    Create a convolutional neural network model\n",
    "    : x: Placeholder tensor that holds image data.\n",
    "    : keep_prob: Placeholder tensor that hold dropout keep probability.\n",
    "    : return: Tensor that represents logits\n",
    "    \"\"\"\n",
    "    # TODO: Apply 1, 2, or 3 Convolution and Max Pool layers\n",
    "    #    Play around with different number of outputs, kernel size and stride\n",
    "    # Function Definition from Above:\n",
    "    #    conv2d_maxpool(x_tensor, conv_num_outputs, conv_ksize, conv_strides, pool_ksize, pool_strides)\n",
    "    \n",
    "    con=conv2d_maxpool(x,conv_num_outputs=20,conv_ksize=(4,4),conv_strides=(1,1),pool_ksize=(6,6),pool_strides=(3,3))\n",
    "    con=tf.nn.dropout(con,keep_prob)\n",
    "\n",
    "    # TODO: Apply a Flatten Layer\n",
    "    # Function Definition from Above:\n",
    "    #   flatten(x_tensor)\n",
    "    \n",
    "    con=flatten(con)\n",
    "\n",
    "    # TODO: Apply 1, 2, or 3 Fully Connected Layers\n",
    "    #    Play around with different number of outputs\n",
    "    # Function Definition from Above:\n",
    "    #   fully_conn(x_tensor, num_outputs)\n",
    "    \n",
    "    con=fully_conn(con,350)\n",
    "\n",
    "    # TODO: Apply an Output Layer\n",
    "    #    Set this to the number of classes\n",
    "    # Function Definition from Above:\n",
    "    #   output(x_tensor, num_outputs)\n",
    "    \n",
    "    con=output(con,10)\n",
    "    # TODO: return output\n",
    "    return con\n",
    "\n",
    "\n",
    "\"\"\"\n",
    "DON'T MODIFY ANYTHING IN THIS CELL THAT IS BELOW THIS LINE\n",
    "\"\"\"\n",
    "\n",
    "##############################\n",
    "## Build the Neural Network ##\n",
    "##############################\n",
    "\n",
    "# Remove previous weights, bias, inputs, etc..\n",
    "tf.reset_default_graph()\n",
    "\n",
    "# Inputs\n",
    "x = neural_net_image_input((32, 32, 3))\n",
    "y = neural_net_label_input(10)\n",
    "keep_prob = neural_net_keep_prob_input()\n",
    "\n",
    "# Model\n",
    "logits = conv_net(x, keep_prob)\n",
    "\n",
    "# Name logits Tensor, so that is can be loaded from disk after training\n",
    "logits = tf.identity(logits, name='logits')\n",
    "\n",
    "# Loss and Optimizer\n",
    "cost = tf.reduce_mean(tf.nn.softmax_cross_entropy_with_logits(logits=logits, labels=y))\n",
    "optimizer = tf.train.AdamOptimizer().minimize(cost)\n",
    "\n",
    "# Accuracy\n",
    "correct_pred = tf.equal(tf.argmax(logits, 1), tf.argmax(y, 1))\n",
    "accuracy = tf.reduce_mean(tf.cast(correct_pred, tf.float32), name='accuracy')\n",
    "\n",
    "tests.test_conv_net(conv_net)"
   ]
  },
  {
   "cell_type": "markdown",
   "metadata": {},
   "source": [
    "## Train the Neural Network\n",
    "### Single Optimization\n",
    "Implement the function `train_neural_network` to do a single optimization.  The optimization should use `optimizer` to optimize in `session` with a `feed_dict` of the following:\n",
    "* `x` for image input\n",
    "* `y` for labels\n",
    "* `keep_prob` for keep probability for dropout\n",
    "\n",
    "This function will be called for each batch, so `tf.global_variables_initializer()` has already been called.\n",
    "\n",
    "Note: Nothing needs to be returned. This function is only optimizing the neural network."
   ]
  },
  {
   "cell_type": "code",
   "execution_count": 14,
   "metadata": {},
   "outputs": [
    {
     "name": "stdout",
     "output_type": "stream",
     "text": [
      "Tests Passed\n"
     ]
    }
   ],
   "source": [
    "def train_neural_network(session, optimizer, keep_probability, feature_batch, label_batch):\n",
    "    \"\"\"\n",
    "    Optimize the session on a batch of images and labels\n",
    "    : session: Current TensorFlow session\n",
    "    : optimizer: TensorFlow optimizer function\n",
    "    : keep_probability: keep probability\n",
    "    : feature_batch: Batch of Numpy image data\n",
    "    : label_batch: Batch of Numpy label data\n",
    "    \"\"\"\n",
    "    # TODO: Implement Function\n",
    "    session.run(optimizer,feed_dict={keep_prob:keep_probability,x:feature_batch,y:label_batch})\n",
    "\n",
    "\n",
    "\"\"\"\n",
    "DON'T MODIFY ANYTHING IN THIS CELL THAT IS BELOW THIS LINE\n",
    "\"\"\"\n",
    "tests.test_train_nn(train_neural_network)"
   ]
  },
  {
   "cell_type": "markdown",
   "metadata": {},
   "source": [
    "### Show Stats\n",
    "Implement the function `print_stats` to print loss and validation accuracy.  Use the global variables `valid_features` and `valid_labels` to calculate validation accuracy.  Use a keep probability of `1.0` to calculate the loss and validation accuracy."
   ]
  },
  {
   "cell_type": "code",
   "execution_count": 15,
   "metadata": {
    "collapsed": true
   },
   "outputs": [],
   "source": [
    "def print_stats(session, feature_batch, label_batch, cost, accuracy):\n",
    "    \"\"\"\n",
    "    Print information about loss and validation accuracy\n",
    "    : session: Current TensorFlow session\n",
    "    : feature_batch: Batch of Numpy image data\n",
    "    : label_batch: Batch of Numpy label data\n",
    "    : cost: TensorFlow cost function\n",
    "    : accuracy: TensorFlow accuracy function\n",
    "    \"\"\"\n",
    "    # TODO: Implement Function\n",
    "    loss=session.run(cost,feed_dict={x:feature_batch,y:label_batch,keep_prob:1})\n",
    "    acc=session.run(accuracy,feed_dict={x:valid_features,y:valid_labels,keep_prob:1})\n",
    "    print(\"cost={:.5f} \\taccuracy={:.5f}\".format(loss,acc))"
   ]
  },
  {
   "cell_type": "markdown",
   "metadata": {},
   "source": [
    "### Hyperparameters\n",
    "Tune the following parameters:\n",
    "* Set `epochs` to the number of iterations until the network stops learning or start overfitting\n",
    "* Set `batch_size` to the highest number that your machine has memory for.  Most people set them to common sizes of memory:\n",
    " * 64\n",
    " * 128\n",
    " * 256\n",
    " * ...\n",
    "* Set `keep_probability` to the probability of keeping a node using dropout"
   ]
  },
  {
   "cell_type": "code",
   "execution_count": 16,
   "metadata": {
    "collapsed": true
   },
   "outputs": [],
   "source": [
    "# TODO: Tune Parameters\n",
    "epochs = 45\n",
    "batch_size = 256\n",
    "keep_probability = 0.6"
   ]
  },
  {
   "cell_type": "markdown",
   "metadata": {},
   "source": [
    "### Train on a Single CIFAR-10 Batch\n",
    "Instead of training the neural network on all the CIFAR-10 batches of data, let's use a single batch. This should save time while you iterate on the model to get a better accuracy.  Once the final validation accuracy is 50% or greater, run the model on all the data in the next section."
   ]
  },
  {
   "cell_type": "code",
   "execution_count": 17,
   "metadata": {},
   "outputs": [
    {
     "name": "stdout",
     "output_type": "stream",
     "text": [
      "Checking the Training on a Single Batch...\n",
      "Epoch  1, CIFAR-10 Batch 1:  cost=2.31575 \taccuracy=0.13740\n",
      "Epoch  2, CIFAR-10 Batch 1:  cost=2.26126 \taccuracy=0.21740\n",
      "Epoch  3, CIFAR-10 Batch 1:  cost=2.16861 \taccuracy=0.28140\n",
      "Epoch  4, CIFAR-10 Batch 1:  cost=2.04534 \taccuracy=0.33320\n",
      "Epoch  5, CIFAR-10 Batch 1:  cost=1.97342 \taccuracy=0.36720\n",
      "Epoch  6, CIFAR-10 Batch 1:  cost=1.82110 \taccuracy=0.38460\n",
      "Epoch  7, CIFAR-10 Batch 1:  cost=1.74616 \taccuracy=0.40180\n",
      "Epoch  8, CIFAR-10 Batch 1:  cost=1.62544 \taccuracy=0.42540\n",
      "Epoch  9, CIFAR-10 Batch 1:  cost=1.48358 \taccuracy=0.43600\n",
      "Epoch 10, CIFAR-10 Batch 1:  cost=1.40260 \taccuracy=0.44660\n",
      "Epoch 11, CIFAR-10 Batch 1:  cost=1.34835 \taccuracy=0.45480\n",
      "Epoch 12, CIFAR-10 Batch 1:  cost=1.28354 \taccuracy=0.47060\n",
      "Epoch 13, CIFAR-10 Batch 1:  cost=1.21274 \taccuracy=0.47540\n",
      "Epoch 14, CIFAR-10 Batch 1:  cost=1.19526 \taccuracy=0.47160\n",
      "Epoch 15, CIFAR-10 Batch 1:  cost=1.13760 \taccuracy=0.49180\n",
      "Epoch 16, CIFAR-10 Batch 1:  cost=1.12653 \taccuracy=0.49420\n",
      "Epoch 17, CIFAR-10 Batch 1:  cost=1.07653 \taccuracy=0.50220\n",
      "Epoch 18, CIFAR-10 Batch 1:  cost=1.07779 \taccuracy=0.49940\n",
      "Epoch 19, CIFAR-10 Batch 1:  cost=1.01937 \taccuracy=0.50560\n",
      "Epoch 20, CIFAR-10 Batch 1:  cost=0.97731 \taccuracy=0.50640\n",
      "Epoch 21, CIFAR-10 Batch 1:  cost=0.94876 \taccuracy=0.50140\n",
      "Epoch 22, CIFAR-10 Batch 1:  cost=0.94754 \taccuracy=0.50400\n",
      "Epoch 23, CIFAR-10 Batch 1:  cost=0.92314 \taccuracy=0.51420\n",
      "Epoch 24, CIFAR-10 Batch 1:  cost=0.90466 \taccuracy=0.51240\n",
      "Epoch 25, CIFAR-10 Batch 1:  cost=0.86880 \taccuracy=0.51420\n",
      "Epoch 26, CIFAR-10 Batch 1:  cost=0.82709 \taccuracy=0.51780\n",
      "Epoch 27, CIFAR-10 Batch 1:  cost=0.80439 \taccuracy=0.52560\n",
      "Epoch 28, CIFAR-10 Batch 1:  cost=0.78890 \taccuracy=0.52600\n",
      "Epoch 29, CIFAR-10 Batch 1:  cost=0.76948 \taccuracy=0.52560\n",
      "Epoch 30, CIFAR-10 Batch 1:  cost=0.74890 \taccuracy=0.53140\n",
      "Epoch 31, CIFAR-10 Batch 1:  cost=0.71832 \taccuracy=0.53380\n",
      "Epoch 32, CIFAR-10 Batch 1:  cost=0.70604 \taccuracy=0.53400\n",
      "Epoch 33, CIFAR-10 Batch 1:  cost=0.68947 \taccuracy=0.53860\n",
      "Epoch 34, CIFAR-10 Batch 1:  cost=0.68867 \taccuracy=0.54580\n",
      "Epoch 35, CIFAR-10 Batch 1:  cost=0.68151 \taccuracy=0.54700\n",
      "Epoch 36, CIFAR-10 Batch 1:  cost=0.66445 \taccuracy=0.54740\n",
      "Epoch 37, CIFAR-10 Batch 1:  cost=0.65512 \taccuracy=0.55160\n",
      "Epoch 38, CIFAR-10 Batch 1:  cost=0.62783 \taccuracy=0.55560\n",
      "Epoch 39, CIFAR-10 Batch 1:  cost=0.65290 \taccuracy=0.55240\n",
      "Epoch 40, CIFAR-10 Batch 1:  cost=0.63726 \taccuracy=0.55340\n",
      "Epoch 41, CIFAR-10 Batch 1:  cost=0.61059 \taccuracy=0.55340\n",
      "Epoch 42, CIFAR-10 Batch 1:  cost=0.59993 \taccuracy=0.55900\n",
      "Epoch 43, CIFAR-10 Batch 1:  cost=0.57607 \taccuracy=0.55740\n",
      "Epoch 44, CIFAR-10 Batch 1:  cost=0.56348 \taccuracy=0.56400\n",
      "Epoch 45, CIFAR-10 Batch 1:  cost=0.54739 \taccuracy=0.55820\n"
     ]
    }
   ],
   "source": [
    "\"\"\"\n",
    "DON'T MODIFY ANYTHING IN THIS CELL\n",
    "\"\"\"\n",
    "print('Checking the Training on a Single Batch...')\n",
    "with tf.Session() as sess:\n",
    "    # Initializing the variables\n",
    "    sess.run(tf.global_variables_initializer())\n",
    "    \n",
    "    # Training cycle\n",
    "    for epoch in range(epochs):\n",
    "        batch_i = 1\n",
    "        for batch_features, batch_labels in helper.load_preprocess_training_batch(batch_i, batch_size):\n",
    "            train_neural_network(sess, optimizer, keep_probability, batch_features, batch_labels)\n",
    "        print('Epoch {:>2}, CIFAR-10 Batch {}:  '.format(epoch + 1, batch_i), end='')\n",
    "        print_stats(sess, batch_features, batch_labels, cost, accuracy)"
   ]
  },
  {
   "cell_type": "markdown",
   "metadata": {},
   "source": [
    "### Fully Train the Model\n",
    "Now that you got a good accuracy with a single CIFAR-10 batch, try it with all five batches."
   ]
  },
  {
   "cell_type": "code",
   "execution_count": 19,
   "metadata": {},
   "outputs": [
    {
     "name": "stdout",
     "output_type": "stream",
     "text": [
      "Training...\n",
      "Epoch  1, CIFAR-10 Batch 1:  cost=2.24367 \taccuracy=0.17620\n",
      "Epoch  1, CIFAR-10 Batch 2:  cost=2.01045 \taccuracy=0.30100\n",
      "Epoch  1, CIFAR-10 Batch 3:  cost=1.76418 \taccuracy=0.36440\n",
      "Epoch  1, CIFAR-10 Batch 4:  cost=1.59059 \taccuracy=0.40420\n",
      "Epoch  1, CIFAR-10 Batch 5:  cost=1.65813 \taccuracy=0.43660\n",
      "Epoch  2, CIFAR-10 Batch 1:  cost=1.67838 \taccuracy=0.46480\n",
      "Epoch  2, CIFAR-10 Batch 2:  cost=1.38468 \taccuracy=0.47420\n",
      "Epoch  2, CIFAR-10 Batch 3:  cost=1.31458 \taccuracy=0.47600\n",
      "Epoch  2, CIFAR-10 Batch 4:  cost=1.38866 \taccuracy=0.48300\n",
      "Epoch  2, CIFAR-10 Batch 5:  cost=1.37569 \taccuracy=0.49400\n",
      "Epoch  3, CIFAR-10 Batch 1:  cost=1.46680 \taccuracy=0.50640\n",
      "Epoch  3, CIFAR-10 Batch 2:  cost=1.22037 \taccuracy=0.50100\n",
      "Epoch  3, CIFAR-10 Batch 3:  cost=1.18682 \taccuracy=0.51220\n",
      "Epoch  3, CIFAR-10 Batch 4:  cost=1.28020 \taccuracy=0.52840\n",
      "Epoch  3, CIFAR-10 Batch 5:  cost=1.27424 \taccuracy=0.52980\n",
      "Epoch  4, CIFAR-10 Batch 1:  cost=1.32074 \taccuracy=0.53320\n",
      "Epoch  4, CIFAR-10 Batch 2:  cost=1.15248 \taccuracy=0.52960\n",
      "Epoch  4, CIFAR-10 Batch 3:  cost=1.11061 \taccuracy=0.54220\n",
      "Epoch  4, CIFAR-10 Batch 4:  cost=1.19490 \taccuracy=0.54600\n",
      "Epoch  4, CIFAR-10 Batch 5:  cost=1.16462 \taccuracy=0.55340\n",
      "Epoch  5, CIFAR-10 Batch 1:  cost=1.24750 \taccuracy=0.55300\n",
      "Epoch  5, CIFAR-10 Batch 2:  cost=1.09860 \taccuracy=0.54600\n",
      "Epoch  5, CIFAR-10 Batch 3:  cost=1.04845 \taccuracy=0.55440\n",
      "Epoch  5, CIFAR-10 Batch 4:  cost=1.09833 \taccuracy=0.56480\n",
      "Epoch  5, CIFAR-10 Batch 5:  cost=1.12145 \taccuracy=0.56640\n",
      "Epoch  6, CIFAR-10 Batch 1:  cost=1.14132 \taccuracy=0.56500\n",
      "Epoch  6, CIFAR-10 Batch 2:  cost=1.02227 \taccuracy=0.55800\n",
      "Epoch  6, CIFAR-10 Batch 3:  cost=0.96807 \taccuracy=0.56220\n",
      "Epoch  6, CIFAR-10 Batch 4:  cost=1.02264 \taccuracy=0.57480\n",
      "Epoch  6, CIFAR-10 Batch 5:  cost=1.04072 \taccuracy=0.57640\n",
      "Epoch  7, CIFAR-10 Batch 1:  cost=1.08164 \taccuracy=0.57680\n",
      "Epoch  7, CIFAR-10 Batch 2:  cost=0.97731 \taccuracy=0.56980\n",
      "Epoch  7, CIFAR-10 Batch 3:  cost=0.88896 \taccuracy=0.57500\n",
      "Epoch  7, CIFAR-10 Batch 4:  cost=0.97805 \taccuracy=0.58160\n",
      "Epoch  7, CIFAR-10 Batch 5:  cost=1.00192 \taccuracy=0.58520\n",
      "Epoch  8, CIFAR-10 Batch 1:  cost=1.03157 \taccuracy=0.58700\n",
      "Epoch  8, CIFAR-10 Batch 2:  cost=0.90029 \taccuracy=0.58000\n",
      "Epoch  8, CIFAR-10 Batch 3:  cost=0.83717 \taccuracy=0.58280\n",
      "Epoch  8, CIFAR-10 Batch 4:  cost=0.92791 \taccuracy=0.59120\n",
      "Epoch  8, CIFAR-10 Batch 5:  cost=0.95543 \taccuracy=0.58980\n",
      "Epoch  9, CIFAR-10 Batch 1:  cost=0.99089 \taccuracy=0.59300\n",
      "Epoch  9, CIFAR-10 Batch 2:  cost=0.86755 \taccuracy=0.58780\n",
      "Epoch  9, CIFAR-10 Batch 3:  cost=0.81821 \taccuracy=0.58540\n",
      "Epoch  9, CIFAR-10 Batch 4:  cost=0.86388 \taccuracy=0.59840\n",
      "Epoch  9, CIFAR-10 Batch 5:  cost=0.90028 \taccuracy=0.60100\n",
      "Epoch 10, CIFAR-10 Batch 1:  cost=0.98024 \taccuracy=0.59740\n",
      "Epoch 10, CIFAR-10 Batch 2:  cost=0.80532 \taccuracy=0.59800\n",
      "Epoch 10, CIFAR-10 Batch 3:  cost=0.76205 \taccuracy=0.60040\n",
      "Epoch 10, CIFAR-10 Batch 4:  cost=0.79332 \taccuracy=0.59980\n",
      "Epoch 10, CIFAR-10 Batch 5:  cost=0.85062 \taccuracy=0.60340\n",
      "Epoch 11, CIFAR-10 Batch 1:  cost=0.96645 \taccuracy=0.60640\n",
      "Epoch 11, CIFAR-10 Batch 2:  cost=0.77117 \taccuracy=0.60040\n",
      "Epoch 11, CIFAR-10 Batch 3:  cost=0.72502 \taccuracy=0.60320\n",
      "Epoch 11, CIFAR-10 Batch 4:  cost=0.75796 \taccuracy=0.61040\n",
      "Epoch 11, CIFAR-10 Batch 5:  cost=0.78789 \taccuracy=0.61320\n",
      "Epoch 12, CIFAR-10 Batch 1:  cost=0.92038 \taccuracy=0.60760\n",
      "Epoch 12, CIFAR-10 Batch 2:  cost=0.72544 \taccuracy=0.60280\n",
      "Epoch 12, CIFAR-10 Batch 3:  cost=0.69439 \taccuracy=0.61040\n",
      "Epoch 12, CIFAR-10 Batch 4:  cost=0.74649 \taccuracy=0.61580\n",
      "Epoch 12, CIFAR-10 Batch 5:  cost=0.72998 \taccuracy=0.61720\n",
      "Epoch 13, CIFAR-10 Batch 1:  cost=0.89991 \taccuracy=0.61540\n",
      "Epoch 13, CIFAR-10 Batch 2:  cost=0.66261 \taccuracy=0.61260\n",
      "Epoch 13, CIFAR-10 Batch 3:  cost=0.63267 \taccuracy=0.61800\n",
      "Epoch 13, CIFAR-10 Batch 4:  cost=0.69568 \taccuracy=0.61880\n",
      "Epoch 13, CIFAR-10 Batch 5:  cost=0.67922 \taccuracy=0.62460\n",
      "Epoch 14, CIFAR-10 Batch 1:  cost=0.89338 \taccuracy=0.62120\n",
      "Epoch 14, CIFAR-10 Batch 2:  cost=0.61625 \taccuracy=0.61780\n",
      "Epoch 14, CIFAR-10 Batch 3:  cost=0.58894 \taccuracy=0.62060\n",
      "Epoch 14, CIFAR-10 Batch 4:  cost=0.66240 \taccuracy=0.62380\n",
      "Epoch 14, CIFAR-10 Batch 5:  cost=0.66412 \taccuracy=0.62960\n",
      "Epoch 15, CIFAR-10 Batch 1:  cost=0.82148 \taccuracy=0.62820\n",
      "Epoch 15, CIFAR-10 Batch 2:  cost=0.63417 \taccuracy=0.62120\n",
      "Epoch 15, CIFAR-10 Batch 3:  cost=0.58753 \taccuracy=0.62360\n",
      "Epoch 15, CIFAR-10 Batch 4:  cost=0.58104 \taccuracy=0.62760\n",
      "Epoch 15, CIFAR-10 Batch 5:  cost=0.62790 \taccuracy=0.62680\n",
      "Epoch 16, CIFAR-10 Batch 1:  cost=0.77080 \taccuracy=0.63020\n",
      "Epoch 16, CIFAR-10 Batch 2:  cost=0.57083 \taccuracy=0.62520\n",
      "Epoch 16, CIFAR-10 Batch 3:  cost=0.56698 \taccuracy=0.63000\n",
      "Epoch 16, CIFAR-10 Batch 4:  cost=0.56412 \taccuracy=0.63120\n",
      "Epoch 16, CIFAR-10 Batch 5:  cost=0.59738 \taccuracy=0.63400\n",
      "Epoch 17, CIFAR-10 Batch 1:  cost=0.74798 \taccuracy=0.63220\n",
      "Epoch 17, CIFAR-10 Batch 2:  cost=0.53194 \taccuracy=0.62820\n",
      "Epoch 17, CIFAR-10 Batch 3:  cost=0.51810 \taccuracy=0.62740\n",
      "Epoch 17, CIFAR-10 Batch 4:  cost=0.54302 \taccuracy=0.63780\n",
      "Epoch 17, CIFAR-10 Batch 5:  cost=0.53527 \taccuracy=0.63900\n",
      "Epoch 18, CIFAR-10 Batch 1:  cost=0.72390 \taccuracy=0.63460\n",
      "Epoch 18, CIFAR-10 Batch 2:  cost=0.51197 \taccuracy=0.63060\n",
      "Epoch 18, CIFAR-10 Batch 3:  cost=0.50609 \taccuracy=0.63320\n",
      "Epoch 18, CIFAR-10 Batch 4:  cost=0.51251 \taccuracy=0.63580\n",
      "Epoch 18, CIFAR-10 Batch 5:  cost=0.55406 \taccuracy=0.63420\n",
      "Epoch 19, CIFAR-10 Batch 1:  cost=0.68800 \taccuracy=0.63860\n",
      "Epoch 19, CIFAR-10 Batch 2:  cost=0.50941 \taccuracy=0.63340\n",
      "Epoch 19, CIFAR-10 Batch 3:  cost=0.46968 \taccuracy=0.64260\n",
      "Epoch 19, CIFAR-10 Batch 4:  cost=0.49629 \taccuracy=0.64160\n",
      "Epoch 19, CIFAR-10 Batch 5:  cost=0.49607 \taccuracy=0.63600\n",
      "Epoch 20, CIFAR-10 Batch 1:  cost=0.65579 \taccuracy=0.64340\n",
      "Epoch 20, CIFAR-10 Batch 2:  cost=0.48369 \taccuracy=0.63540\n",
      "Epoch 20, CIFAR-10 Batch 3:  cost=0.44445 \taccuracy=0.63840\n",
      "Epoch 20, CIFAR-10 Batch 4:  cost=0.46717 \taccuracy=0.63800\n",
      "Epoch 20, CIFAR-10 Batch 5:  cost=0.45526 \taccuracy=0.63940\n",
      "Epoch 21, CIFAR-10 Batch 1:  cost=0.61880 \taccuracy=0.64620\n",
      "Epoch 21, CIFAR-10 Batch 2:  cost=0.43808 \taccuracy=0.63780\n",
      "Epoch 21, CIFAR-10 Batch 3:  cost=0.41303 \taccuracy=0.64260\n",
      "Epoch 21, CIFAR-10 Batch 4:  cost=0.45379 \taccuracy=0.64560\n",
      "Epoch 21, CIFAR-10 Batch 5:  cost=0.43494 \taccuracy=0.64660\n",
      "Epoch 22, CIFAR-10 Batch 1:  cost=0.57012 \taccuracy=0.64480\n",
      "Epoch 22, CIFAR-10 Batch 2:  cost=0.41443 \taccuracy=0.63180\n",
      "Epoch 22, CIFAR-10 Batch 3:  cost=0.39516 \taccuracy=0.64420\n",
      "Epoch 22, CIFAR-10 Batch 4:  cost=0.42698 \taccuracy=0.64740\n",
      "Epoch 22, CIFAR-10 Batch 5:  cost=0.43657 \taccuracy=0.65200\n",
      "Epoch 23, CIFAR-10 Batch 1:  cost=0.56171 \taccuracy=0.64400\n",
      "Epoch 23, CIFAR-10 Batch 2:  cost=0.38768 \taccuracy=0.64080\n",
      "Epoch 23, CIFAR-10 Batch 3:  cost=0.36626 \taccuracy=0.64680\n",
      "Epoch 23, CIFAR-10 Batch 4:  cost=0.42960 \taccuracy=0.64800\n",
      "Epoch 23, CIFAR-10 Batch 5:  cost=0.39055 \taccuracy=0.64520\n",
      "Epoch 24, CIFAR-10 Batch 1:  cost=0.52355 \taccuracy=0.64440\n",
      "Epoch 24, CIFAR-10 Batch 2:  cost=0.38814 \taccuracy=0.63860\n",
      "Epoch 24, CIFAR-10 Batch 3:  cost=0.34954 \taccuracy=0.64900\n",
      "Epoch 24, CIFAR-10 Batch 4:  cost=0.42167 \taccuracy=0.63980\n",
      "Epoch 24, CIFAR-10 Batch 5:  cost=0.37421 \taccuracy=0.64900\n",
      "Epoch 25, CIFAR-10 Batch 1:  cost=0.50197 \taccuracy=0.64840\n",
      "Epoch 25, CIFAR-10 Batch 2:  cost=0.35233 \taccuracy=0.63840\n",
      "Epoch 25, CIFAR-10 Batch 3:  cost=0.34383 \taccuracy=0.64520\n",
      "Epoch 25, CIFAR-10 Batch 4:  cost=0.39515 \taccuracy=0.64700\n",
      "Epoch 25, CIFAR-10 Batch 5:  cost=0.36631 \taccuracy=0.65080\n",
      "Epoch 26, CIFAR-10 Batch 1:  cost=0.52657 \taccuracy=0.64780\n",
      "Epoch 26, CIFAR-10 Batch 2:  cost=0.35172 \taccuracy=0.63800\n",
      "Epoch 26, CIFAR-10 Batch 3:  cost=0.32734 \taccuracy=0.64580\n",
      "Epoch 26, CIFAR-10 Batch 4:  cost=0.38781 \taccuracy=0.64920\n",
      "Epoch 26, CIFAR-10 Batch 5:  cost=0.34517 \taccuracy=0.64420\n",
      "Epoch 27, CIFAR-10 Batch 1:  cost=0.46034 \taccuracy=0.64840\n",
      "Epoch 27, CIFAR-10 Batch 2:  cost=0.31769 \taccuracy=0.64640\n",
      "Epoch 27, CIFAR-10 Batch 3:  cost=0.32808 \taccuracy=0.65140\n",
      "Epoch 27, CIFAR-10 Batch 4:  cost=0.36193 \taccuracy=0.64420\n",
      "Epoch 27, CIFAR-10 Batch 5:  cost=0.31935 \taccuracy=0.65200\n",
      "Epoch 28, CIFAR-10 Batch 1:  cost=0.44038 \taccuracy=0.65280\n",
      "Epoch 28, CIFAR-10 Batch 2:  cost=0.31648 \taccuracy=0.64400\n"
     ]
    },
    {
     "name": "stdout",
     "output_type": "stream",
     "text": [
      "Epoch 28, CIFAR-10 Batch 3:  cost=0.33346 \taccuracy=0.64600\n",
      "Epoch 28, CIFAR-10 Batch 4:  cost=0.36341 \taccuracy=0.64860\n",
      "Epoch 28, CIFAR-10 Batch 5:  cost=0.30456 \taccuracy=0.64940\n",
      "Epoch 29, CIFAR-10 Batch 1:  cost=0.46249 \taccuracy=0.64800\n",
      "Epoch 29, CIFAR-10 Batch 2:  cost=0.29504 \taccuracy=0.64140\n",
      "Epoch 29, CIFAR-10 Batch 3:  cost=0.30067 \taccuracy=0.65440\n",
      "Epoch 29, CIFAR-10 Batch 4:  cost=0.34716 \taccuracy=0.65520\n",
      "Epoch 29, CIFAR-10 Batch 5:  cost=0.30211 \taccuracy=0.64860\n",
      "Epoch 30, CIFAR-10 Batch 1:  cost=0.41384 \taccuracy=0.65380\n",
      "Epoch 30, CIFAR-10 Batch 2:  cost=0.28818 \taccuracy=0.64980\n",
      "Epoch 30, CIFAR-10 Batch 3:  cost=0.29427 \taccuracy=0.65240\n",
      "Epoch 30, CIFAR-10 Batch 4:  cost=0.34401 \taccuracy=0.65460\n",
      "Epoch 30, CIFAR-10 Batch 5:  cost=0.29004 \taccuracy=0.65040\n",
      "Epoch 31, CIFAR-10 Batch 1:  cost=0.40560 \taccuracy=0.65360\n",
      "Epoch 31, CIFAR-10 Batch 2:  cost=0.27248 \taccuracy=0.64660\n",
      "Epoch 31, CIFAR-10 Batch 3:  cost=0.27340 \taccuracy=0.65460\n",
      "Epoch 31, CIFAR-10 Batch 4:  cost=0.32374 \taccuracy=0.65060\n",
      "Epoch 31, CIFAR-10 Batch 5:  cost=0.27593 \taccuracy=0.65320\n",
      "Epoch 32, CIFAR-10 Batch 1:  cost=0.39965 \taccuracy=0.65060\n",
      "Epoch 32, CIFAR-10 Batch 2:  cost=0.26889 \taccuracy=0.65040\n",
      "Epoch 32, CIFAR-10 Batch 3:  cost=0.29017 \taccuracy=0.65820\n",
      "Epoch 32, CIFAR-10 Batch 4:  cost=0.31576 \taccuracy=0.65980\n",
      "Epoch 32, CIFAR-10 Batch 5:  cost=0.28177 \taccuracy=0.65100\n",
      "Epoch 33, CIFAR-10 Batch 1:  cost=0.40559 \taccuracy=0.65600\n",
      "Epoch 33, CIFAR-10 Batch 2:  cost=0.26060 \taccuracy=0.65640\n",
      "Epoch 33, CIFAR-10 Batch 3:  cost=0.25868 \taccuracy=0.65920\n",
      "Epoch 33, CIFAR-10 Batch 4:  cost=0.32224 \taccuracy=0.66440\n",
      "Epoch 33, CIFAR-10 Batch 5:  cost=0.25562 \taccuracy=0.64280\n",
      "Epoch 34, CIFAR-10 Batch 1:  cost=0.38108 \taccuracy=0.65620\n",
      "Epoch 34, CIFAR-10 Batch 2:  cost=0.23467 \taccuracy=0.64420\n",
      "Epoch 34, CIFAR-10 Batch 3:  cost=0.26107 \taccuracy=0.65900\n",
      "Epoch 34, CIFAR-10 Batch 4:  cost=0.30323 \taccuracy=0.65980\n",
      "Epoch 34, CIFAR-10 Batch 5:  cost=0.25360 \taccuracy=0.65300\n",
      "Epoch 35, CIFAR-10 Batch 1:  cost=0.34991 \taccuracy=0.65980\n",
      "Epoch 35, CIFAR-10 Batch 2:  cost=0.23657 \taccuracy=0.65160\n",
      "Epoch 35, CIFAR-10 Batch 3:  cost=0.25103 \taccuracy=0.65560\n",
      "Epoch 35, CIFAR-10 Batch 4:  cost=0.29407 \taccuracy=0.65660\n",
      "Epoch 35, CIFAR-10 Batch 5:  cost=0.25748 \taccuracy=0.65220\n",
      "Epoch 36, CIFAR-10 Batch 1:  cost=0.33877 \taccuracy=0.66140\n",
      "Epoch 36, CIFAR-10 Batch 2:  cost=0.23687 \taccuracy=0.65140\n",
      "Epoch 36, CIFAR-10 Batch 3:  cost=0.23450 \taccuracy=0.65520\n",
      "Epoch 36, CIFAR-10 Batch 4:  cost=0.29262 \taccuracy=0.65820\n",
      "Epoch 36, CIFAR-10 Batch 5:  cost=0.22533 \taccuracy=0.65240\n",
      "Epoch 37, CIFAR-10 Batch 1:  cost=0.32768 \taccuracy=0.66200\n",
      "Epoch 37, CIFAR-10 Batch 2:  cost=0.21089 \taccuracy=0.65180\n",
      "Epoch 37, CIFAR-10 Batch 3:  cost=0.22878 \taccuracy=0.65820\n",
      "Epoch 37, CIFAR-10 Batch 4:  cost=0.28171 \taccuracy=0.65680\n",
      "Epoch 37, CIFAR-10 Batch 5:  cost=0.23018 \taccuracy=0.66060\n",
      "Epoch 38, CIFAR-10 Batch 1:  cost=0.32296 \taccuracy=0.66240\n",
      "Epoch 38, CIFAR-10 Batch 2:  cost=0.21805 \taccuracy=0.64580\n",
      "Epoch 38, CIFAR-10 Batch 3:  cost=0.21427 \taccuracy=0.65720\n",
      "Epoch 38, CIFAR-10 Batch 4:  cost=0.28215 \taccuracy=0.65880\n",
      "Epoch 38, CIFAR-10 Batch 5:  cost=0.20920 \taccuracy=0.65900\n",
      "Epoch 39, CIFAR-10 Batch 1:  cost=0.29601 \taccuracy=0.65820\n",
      "Epoch 39, CIFAR-10 Batch 2:  cost=0.19061 \taccuracy=0.65220\n",
      "Epoch 39, CIFAR-10 Batch 3:  cost=0.22375 \taccuracy=0.66040\n",
      "Epoch 39, CIFAR-10 Batch 4:  cost=0.29036 \taccuracy=0.65640\n",
      "Epoch 39, CIFAR-10 Batch 5:  cost=0.21092 \taccuracy=0.65940\n",
      "Epoch 40, CIFAR-10 Batch 1:  cost=0.30018 \taccuracy=0.66100\n",
      "Epoch 40, CIFAR-10 Batch 2:  cost=0.18794 \taccuracy=0.65420\n",
      "Epoch 40, CIFAR-10 Batch 3:  cost=0.22305 \taccuracy=0.65740\n",
      "Epoch 40, CIFAR-10 Batch 4:  cost=0.27417 \taccuracy=0.65820\n",
      "Epoch 40, CIFAR-10 Batch 5:  cost=0.20245 \taccuracy=0.65320\n",
      "Epoch 41, CIFAR-10 Batch 1:  cost=0.28953 \taccuracy=0.66220\n",
      "Epoch 41, CIFAR-10 Batch 2:  cost=0.17469 \taccuracy=0.65700\n",
      "Epoch 41, CIFAR-10 Batch 3:  cost=0.21266 \taccuracy=0.65820\n",
      "Epoch 41, CIFAR-10 Batch 4:  cost=0.27807 \taccuracy=0.65980\n",
      "Epoch 41, CIFAR-10 Batch 5:  cost=0.19486 \taccuracy=0.65640\n",
      "Epoch 42, CIFAR-10 Batch 1:  cost=0.28071 \taccuracy=0.66080\n",
      "Epoch 42, CIFAR-10 Batch 2:  cost=0.17665 \taccuracy=0.65120\n",
      "Epoch 42, CIFAR-10 Batch 3:  cost=0.22852 \taccuracy=0.66580\n",
      "Epoch 42, CIFAR-10 Batch 4:  cost=0.24176 \taccuracy=0.65820\n",
      "Epoch 42, CIFAR-10 Batch 5:  cost=0.16618 \taccuracy=0.65620\n",
      "Epoch 43, CIFAR-10 Batch 1:  cost=0.30402 \taccuracy=0.66060\n",
      "Epoch 43, CIFAR-10 Batch 2:  cost=0.16464 \taccuracy=0.66460\n",
      "Epoch 43, CIFAR-10 Batch 3:  cost=0.20843 \taccuracy=0.66040\n",
      "Epoch 43, CIFAR-10 Batch 4:  cost=0.25775 \taccuracy=0.66560\n",
      "Epoch 43, CIFAR-10 Batch 5:  cost=0.16384 \taccuracy=0.65220\n",
      "Epoch 44, CIFAR-10 Batch 1:  cost=0.28731 \taccuracy=0.65740\n",
      "Epoch 44, CIFAR-10 Batch 2:  cost=0.16554 \taccuracy=0.64520\n",
      "Epoch 44, CIFAR-10 Batch 3:  cost=0.19136 \taccuracy=0.66200\n",
      "Epoch 44, CIFAR-10 Batch 4:  cost=0.24918 \taccuracy=0.65760\n",
      "Epoch 44, CIFAR-10 Batch 5:  cost=0.17122 \taccuracy=0.65980\n",
      "Epoch 45, CIFAR-10 Batch 1:  cost=0.27457 \taccuracy=0.66700\n",
      "Epoch 45, CIFAR-10 Batch 2:  cost=0.15790 \taccuracy=0.65800\n",
      "Epoch 45, CIFAR-10 Batch 3:  cost=0.19935 \taccuracy=0.66340\n",
      "Epoch 45, CIFAR-10 Batch 4:  cost=0.23700 \taccuracy=0.66060\n",
      "Epoch 45, CIFAR-10 Batch 5:  cost=0.17151 \taccuracy=0.66120\n"
     ]
    }
   ],
   "source": [
    "\"\"\"\n",
    "DON'T MODIFY ANYTHING IN THIS CELL\n",
    "\"\"\"\n",
    "save_model_path = './image_classification'\n",
    "\n",
    "print('Training...')\n",
    "with tf.Session() as sess:\n",
    "    # Initializing the variables\n",
    "    sess.run(tf.global_variables_initializer())\n",
    "    \n",
    "    # Training cycle\n",
    "    for epoch in range(epochs):\n",
    "        # Loop over all batches\n",
    "        n_batches = 5\n",
    "        for batch_i in range(1, n_batches + 1):\n",
    "            for batch_features, batch_labels in helper.load_preprocess_training_batch(batch_i, batch_size):\n",
    "                train_neural_network(sess, optimizer, keep_probability, batch_features, batch_labels)\n",
    "            print('Epoch {:>2}, CIFAR-10 Batch {}:  '.format(epoch + 1, batch_i), end='')\n",
    "            print_stats(sess, batch_features, batch_labels, cost, accuracy)\n",
    "            \n",
    "    # Save Model\n",
    "    saver = tf.train.Saver()\n",
    "    save_path = saver.save(sess, save_model_path)"
   ]
  },
  {
   "cell_type": "markdown",
   "metadata": {},
   "source": [
    "# Checkpoint\n",
    "The model has been saved to disk.\n",
    "## Test Model\n",
    "Test your model against the test dataset.  This will be your final accuracy. You should have an accuracy greater than 50%. If you don't, keep tweaking the model architecture and parameters."
   ]
  },
  {
   "cell_type": "code",
   "execution_count": 20,
   "metadata": {},
   "outputs": [
    {
     "name": "stdout",
     "output_type": "stream",
     "text": [
      "INFO:tensorflow:Restoring parameters from ./image_classification\n",
      "Testing Accuracy: 0.66103515625\n",
      "\n"
     ]
    },
    {
     "data": {
      "image/png": "[encoded data removed]",
      "text/plain": [
       "<matplotlib.figure.Figure at 0x7f7d2659f3c8>"
      ]
     },
     "metadata": {
      "image/png": {
       "height": 319,
       "width": 355
      }
     },
     "output_type": "display_data"
    }
   ],
   "source": [
    "\"\"\"\n",
    "DON'T MODIFY ANYTHING IN THIS CELL\n",
    "\"\"\"\n",
    "%matplotlib inline\n",
    "%config InlineBackend.figure_format = 'retina'\n",
    "\n",
    "import tensorflow as tf\n",
    "import pickle\n",
    "import helper\n",
    "import random\n",
    "\n",
    "# Set batch size if not already set\n",
    "try:\n",
    "    if batch_size:\n",
    "        pass\n",
    "except NameError:\n",
    "    batch_size = 64\n",
    "\n",
    "save_model_path = './image_classification'\n",
    "n_samples = 4\n",
    "top_n_predictions = 3\n",
    "\n",
    "def test_model():\n",
    "    \"\"\"\n",
    "    Test the saved model against the test dataset\n",
    "    \"\"\"\n",
    "\n",
    "    test_features, test_labels = pickle.load(open('preprocess_test.p', mode='rb'))\n",
    "    loaded_graph = tf.Graph()\n",
    "\n",
    "    with tf.Session(graph=loaded_graph) as sess:\n",
    "        # Load model\n",
    "        loader = tf.train.import_meta_graph(save_model_path + '.meta')\n",
    "        loader.restore(sess, save_model_path)\n",
    "\n",
    "        # Get Tensors from loaded model\n",
    "        loaded_x = loaded_graph.get_tensor_by_name('x:0')\n",
    "        loaded_y = loaded_graph.get_tensor_by_name('y:0')\n",
    "        loaded_keep_prob = loaded_graph.get_tensor_by_name('keep_prob:0')\n",
    "        loaded_logits = loaded_graph.get_tensor_by_name('logits:0')\n",
    "        loaded_acc = loaded_graph.get_tensor_by_name('accuracy:0')\n",
    "        \n",
    "        # Get accuracy in batches for memory limitations\n",
    "        test_batch_acc_total = 0\n",
    "        test_batch_count = 0\n",
    "        \n",
    "        for test_feature_batch, test_label_batch in helper.batch_features_labels(test_features, test_labels, batch_size):\n",
    "            test_batch_acc_total += sess.run(\n",
    "                loaded_acc,\n",
    "                feed_dict={loaded_x: test_feature_batch, loaded_y: test_label_batch, loaded_keep_prob: 1.0})\n",
    "            test_batch_count += 1\n",
    "\n",
    "        print('Testing Accuracy: {}\\n'.format(test_batch_acc_total/test_batch_count))\n",
    "\n",
    "        # Print Random Samples\n",
    "        random_test_features, random_test_labels = tuple(zip(*random.sample(list(zip(test_features, test_labels)), n_samples)))\n",
    "        random_test_predictions = sess.run(\n",
    "            tf.nn.top_k(tf.nn.softmax(loaded_logits), top_n_predictions),\n",
    "            feed_dict={loaded_x: random_test_features, loaded_y: random_test_labels, loaded_keep_prob: 1.0})\n",
    "        helper.display_image_predictions(random_test_features, random_test_labels, random_test_predictions)\n",
    "\n",
    "\n",
    "test_model()"
   ]
  },
  {
   "cell_type": "markdown",
   "metadata": {},
   "source": [
    "## Why 50-80% Accuracy?\n",
    "You might be wondering why you can't get an accuracy any higher. First things first, 50% isn't bad for a simple CNN.  Pure guessing would get you 10% accuracy. However, you might notice people are getting scores [well above 80%](http://rodrigob.github.io/are_we_there_yet/build/classification_datasets_results.html#43494641522d3130).  That's because we haven't taught you all there is to know about neural networks. We still need to cover a few more techniques.\n",
    "## Submitting This Project\n",
    "When submitting this project, make sure to run all the cells before saving the notebook.  Save the notebook file as \"dlnd_image_classification.ipynb\" and save it as a HTML file under \"File\" -> \"Download as\".  Include the \"helper.py\" and \"problem_unittests.py\" files in your submission."
   ]
  },
  {
   "cell_type": "code",
   "execution_count": null,
   "metadata": {
    "collapsed": true
   },
   "outputs": [],
   "source": []
  }
 ],
 "metadata": {
  "kernelspec": {
   "display_name": "Python 3",
   "language": "python",
   "name": "python3"
  },
  "language_info": {
   "codemirror_mode": {
    "name": "ipython",
    "version": 3
   },
   "file_extension": ".py",
   "mimetype": "text/x-python",
   "name": "python",
   "nbconvert_exporter": "python",
   "pygments_lexer": "ipython3",
   "version": "3.5.3"
  }
 },
 "nbformat": 4,
 "nbformat_minor": 1
}
